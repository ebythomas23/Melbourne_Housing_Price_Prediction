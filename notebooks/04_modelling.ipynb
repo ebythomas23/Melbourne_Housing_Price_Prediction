{
 "cells": [
  {
   "cell_type": "markdown",
   "id": "f69abf37-a3b6-4697-a577-51e978ea384b",
   "metadata": {},
   "source": [
    "# Modeling\n",
    "\n",
    "## Purpose\n",
    "This notebook focuses on training and evaluating models to predict housing `median_price`. The workflow includes:\n",
    "1. **Baseline Model**: Linear Regression using a simple train-test split.\n",
    "2. **Advanced Model**: Random Forest with hyperparameter tuning using GridSearchCV and cross-validation.\n",
    "\n",
    "---\n"
   ]
  },
  {
   "cell_type": "code",
   "execution_count": 30,
   "id": "2c1eb86d-a8c1-431c-9bb4-0de23702adf0",
   "metadata": {},
   "outputs": [],
   "source": [
    "import pandas as pd\n",
    "from sklearn.model_selection import train_test_split\n",
    "from sklearn.linear_model import LinearRegression\n",
    "from sklearn.metrics import mean_squared_error,r2_score\n",
    "from sklearn.ensemble import  RandomForestRegressor\n",
    "from sklearn.model_selection import GridSearchCV, cross_val_score\n",
    "import matplotlib.pyplot as plt\n",
    "import joblib\n"
   ]
  },
  {
   "cell_type": "markdown",
   "id": "e2a955d9-d8ab-4457-89cd-d066be562288",
   "metadata": {},
   "source": [
    "## Load the Enhanced Dataset\n",
    "\n",
    "The cleaned and feature-engineered dataset is loaded from the `data/processed/` folder for modeling.\n"
   ]
  },
  {
   "cell_type": "code",
   "execution_count": 4,
   "id": "d2397f87-baf2-4ff6-9353-59ffcb626ea7",
   "metadata": {},
   "outputs": [
    {
     "data": {
      "text/html": [
       "<div>\n",
       "<style scoped>\n",
       "    .dataframe tbody tr th:only-of-type {\n",
       "        vertical-align: middle;\n",
       "    }\n",
       "\n",
       "    .dataframe tbody tr th {\n",
       "        vertical-align: top;\n",
       "    }\n",
       "\n",
       "    .dataframe thead th {\n",
       "        text-align: right;\n",
       "    }\n",
       "</style>\n",
       "<table border=\"1\" class=\"dataframe\">\n",
       "  <thead>\n",
       "    <tr style=\"text-align: right;\">\n",
       "      <th></th>\n",
       "      <th>sale_year</th>\n",
       "      <th>median_price</th>\n",
       "      <th>transaction_count</th>\n",
       "      <th>type_encoded</th>\n",
       "      <th>small_area_encoded</th>\n",
       "      <th>rolling_avg_price</th>\n",
       "      <th>transaction_density</th>\n",
       "    </tr>\n",
       "  </thead>\n",
       "  <tbody>\n",
       "    <tr>\n",
       "      <th>0</th>\n",
       "      <td>2000</td>\n",
       "      <td>316250.0</td>\n",
       "      <td>116</td>\n",
       "      <td>0</td>\n",
       "      <td>0</td>\n",
       "      <td>316250.0</td>\n",
       "      <td>0.016445</td>\n",
       "    </tr>\n",
       "    <tr>\n",
       "      <th>1</th>\n",
       "      <td>2000</td>\n",
       "      <td>220000.0</td>\n",
       "      <td>309</td>\n",
       "      <td>1</td>\n",
       "      <td>0</td>\n",
       "      <td>268125.0</td>\n",
       "      <td>0.043805</td>\n",
       "    </tr>\n",
       "    <tr>\n",
       "      <th>2</th>\n",
       "      <td>2000</td>\n",
       "      <td>622500.0</td>\n",
       "      <td>42</td>\n",
       "      <td>0</td>\n",
       "      <td>2</td>\n",
       "      <td>622500.0</td>\n",
       "      <td>0.010041</td>\n",
       "    </tr>\n",
       "    <tr>\n",
       "      <th>3</th>\n",
       "      <td>2000</td>\n",
       "      <td>295000.0</td>\n",
       "      <td>139</td>\n",
       "      <td>1</td>\n",
       "      <td>2</td>\n",
       "      <td>458750.0</td>\n",
       "      <td>0.033230</td>\n",
       "    </tr>\n",
       "    <tr>\n",
       "      <th>4</th>\n",
       "      <td>2000</td>\n",
       "      <td>215250.0</td>\n",
       "      <td>258</td>\n",
       "      <td>0</td>\n",
       "      <td>3</td>\n",
       "      <td>215250.0</td>\n",
       "      <td>0.043165</td>\n",
       "    </tr>\n",
       "  </tbody>\n",
       "</table>\n",
       "</div>"
      ],
      "text/plain": [
       "   sale_year  median_price  transaction_count  type_encoded  \\\n",
       "0       2000      316250.0                116             0   \n",
       "1       2000      220000.0                309             1   \n",
       "2       2000      622500.0                 42             0   \n",
       "3       2000      295000.0                139             1   \n",
       "4       2000      215250.0                258             0   \n",
       "\n",
       "   small_area_encoded  rolling_avg_price  transaction_density  \n",
       "0                   0           316250.0             0.016445  \n",
       "1                   0           268125.0             0.043805  \n",
       "2                   2           622500.0             0.010041  \n",
       "3                   2           458750.0             0.033230  \n",
       "4                   3           215250.0             0.043165  "
      ]
     },
     "execution_count": 4,
     "metadata": {},
     "output_type": "execute_result"
    }
   ],
   "source": [
    "file_path = '/Users/ebythomas/Documents/GitHub/Melbourne_Housing_Analytics/data/processed/enhanced_data.csv'\n",
    "housing_data = pd.read_csv(file_path)\n",
    "\n",
    "#Display dataset overview\n",
    "housing_data.head()"
   ]
  },
  {
   "cell_type": "markdown",
   "id": "fa3702a8-ee21-4702-aeb6-f42c7b967fed",
   "metadata": {},
   "source": [
    "## Data Splitting\n",
    "\n",
    "The dataset is split into training (80%) and test (20%) sets. The training set is used to train the models, while the test set evaluates their performance.\n"
   ]
  },
  {
   "cell_type": "code",
   "execution_count": 6,
   "id": "0e4e872c-59d2-4cbf-b1ed-b3b94c59e409",
   "metadata": {},
   "outputs": [
    {
     "name": "stdout",
     "output_type": "stream",
     "text": [
      "Training set size :272\n",
      "Test set size : 68\n"
     ]
    }
   ],
   "source": [
    "# Define features( X) and target (y)\n",
    "y = housing_data['median_price']  # target variable\n",
    "X = housing_data.drop(['median_price'],  axis =1) # features\n",
    "\n",
    "#Split the data into test and train sets\n",
    "X_train, X_test, y_train, y_test = train_test_split(X,y, test_size =0.2, random_state=42)\n",
    "\n",
    "print(f\"Training set size :{X_train.shape[0]}\")\n",
    "print(f\"Test set size : {X_test.shape[0]}\")\n"
   ]
  },
  {
   "cell_type": "markdown",
   "id": "b5e9fb69-90a5-4474-b9bc-689fc5f56817",
   "metadata": {},
   "source": [
    "## Baseline Model: Linear Regression\n",
    "\n",
    "Linear Regression is used as the baseline model. A simple train-test split is applied for evaluation. Metrics include:\n",
    "- **Test RMSE**: Measures prediction error on the test set.\n",
    "- **Test R²**: Proportion of variance explained by the model.\n"
   ]
  },
  {
   "cell_type": "code",
   "execution_count": 15,
   "id": "b4ee1d3f-e05c-43e0-a1b9-cc0da00bbce9",
   "metadata": {},
   "outputs": [
    {
     "name": "stdout",
     "output_type": "stream",
     "text": [
      "Linear Regression Performance:\n",
      "Test RMSE : 276090.85\n",
      "Test R² : 0.52\n"
     ]
    },
    {
     "name": "stderr",
     "output_type": "stream",
     "text": [
      "/usr/local/Cellar/jupyterlab/4.1.6_1/libexec/lib/python3.12/site-packages/sklearn/metrics/_regression.py:483: FutureWarning: 'squared' is deprecated in version 1.4 and will be removed in 1.6. To calculate the root mean squared error, use the function'root_mean_squared_error'.\n",
      "  warnings.warn(\n"
     ]
    }
   ],
   "source": [
    "# Train a linear regression model\n",
    "lr = LinearRegression()\n",
    "lr.fit(X_train,y_train)\n",
    "\n",
    "# Make predictions\n",
    "pred_test = lr.predict(X_test)\n",
    "\n",
    "#Evalualte model\n",
    "print(\"Linear Regression Performance:\")\n",
    "print(f\"Test RMSE : {mean_squared_error(y_test, pred_test , squared = False):.2f}\")\n",
    "print(f\"Test R² : {r2_score(y_test, pred_test):.2f}\")\n"
   ]
  },
  {
   "cell_type": "markdown",
   "id": "e3f86106-ea78-419b-960c-bf4f891b274f",
   "metadata": {},
   "source": [
    "## Advanced Model: Random Forest with Hyperparameter Tuning\n",
    "\n",
    "A Random Forest model is trained using GridSearchCV to optimize hyperparameters. Metrics are evaluated on both cross-validation and test datasets.\n",
    "\n",
    "### Parameter Grid\n",
    "- **`n_estimators`**: Number of trees in the forest.\n",
    "- **`max_depth`**: Maximum depth of the tree.\n",
    "- **`min_samples_split`**: Minimum number of samples required to split a node.\n",
    "- **`min_samples_leaf`**: Minimum number of samples required to be a leaf node.\n",
    "\n",
    "### Evaluation Metrics\n",
    "- **Cross-validated RMSE**: Average RMSE across CV folds.\n",
    "- **Test RMSE**: RMSE on the unseen test set.\n",
    "- **Test R²**: Proportion of variance explained by the model.\n"
   ]
  },
  {
   "cell_type": "code",
   "execution_count": 20,
   "id": "1859452c-6b12-47c4-b705-82dec2eb0814",
   "metadata": {},
   "outputs": [
    {
     "name": "stdout",
     "output_type": "stream",
     "text": [
      "Fitting 5 folds for each of 36 candidates, totalling 180 fits\n",
      "[CV] END max_depth=10, min_samples_leaf=1, min_samples_split=2, n_estimators=100; total time=   0.2s\n",
      "[CV] END max_depth=10, min_samples_leaf=1, min_samples_split=2, n_estimators=100; total time=   0.1s\n",
      "[CV] END max_depth=10, min_samples_leaf=1, min_samples_split=2, n_estimators=100; total time=   0.1s\n",
      "[CV] END max_depth=10, min_samples_leaf=1, min_samples_split=2, n_estimators=100; total time=   0.1s\n",
      "[CV] END max_depth=10, min_samples_leaf=1, min_samples_split=2, n_estimators=100; total time=   0.1s\n",
      "[CV] END max_depth=10, min_samples_leaf=1, min_samples_split=2, n_estimators=200; total time=   0.2s\n",
      "[CV] END max_depth=10, min_samples_leaf=1, min_samples_split=2, n_estimators=200; total time=   0.2s\n",
      "[CV] END max_depth=10, min_samples_leaf=1, min_samples_split=2, n_estimators=200; total time=   0.2s\n",
      "[CV] END max_depth=10, min_samples_leaf=1, min_samples_split=2, n_estimators=200; total time=   0.2s\n",
      "[CV] END max_depth=10, min_samples_leaf=1, min_samples_split=2, n_estimators=200; total time=   0.2s\n",
      "[CV] END max_depth=10, min_samples_leaf=1, min_samples_split=2, n_estimators=300; total time=   0.4s\n",
      "[CV] END max_depth=10, min_samples_leaf=1, min_samples_split=2, n_estimators=300; total time=   0.4s\n",
      "[CV] END max_depth=10, min_samples_leaf=1, min_samples_split=2, n_estimators=300; total time=   0.4s\n",
      "[CV] END max_depth=10, min_samples_leaf=1, min_samples_split=2, n_estimators=300; total time=   0.4s\n",
      "[CV] END max_depth=10, min_samples_leaf=1, min_samples_split=2, n_estimators=300; total time=   0.4s\n",
      "[CV] END max_depth=10, min_samples_leaf=1, min_samples_split=5, n_estimators=100; total time=   0.1s\n",
      "[CV] END max_depth=10, min_samples_leaf=1, min_samples_split=5, n_estimators=100; total time=   0.1s\n",
      "[CV] END max_depth=10, min_samples_leaf=1, min_samples_split=5, n_estimators=100; total time=   0.1s\n",
      "[CV] END max_depth=10, min_samples_leaf=1, min_samples_split=5, n_estimators=100; total time=   0.1s\n",
      "[CV] END max_depth=10, min_samples_leaf=1, min_samples_split=5, n_estimators=100; total time=   0.1s\n",
      "[CV] END max_depth=10, min_samples_leaf=1, min_samples_split=5, n_estimators=200; total time=   0.2s\n",
      "[CV] END max_depth=10, min_samples_leaf=1, min_samples_split=5, n_estimators=200; total time=   0.2s\n",
      "[CV] END max_depth=10, min_samples_leaf=1, min_samples_split=5, n_estimators=200; total time=   0.2s\n",
      "[CV] END max_depth=10, min_samples_leaf=1, min_samples_split=5, n_estimators=200; total time=   0.2s\n",
      "[CV] END max_depth=10, min_samples_leaf=1, min_samples_split=5, n_estimators=200; total time=   0.2s\n",
      "[CV] END max_depth=10, min_samples_leaf=1, min_samples_split=5, n_estimators=300; total time=   0.3s\n",
      "[CV] END max_depth=10, min_samples_leaf=1, min_samples_split=5, n_estimators=300; total time=   0.3s\n",
      "[CV] END max_depth=10, min_samples_leaf=1, min_samples_split=5, n_estimators=300; total time=   0.3s\n",
      "[CV] END max_depth=10, min_samples_leaf=1, min_samples_split=5, n_estimators=300; total time=   0.3s\n",
      "[CV] END max_depth=10, min_samples_leaf=1, min_samples_split=5, n_estimators=300; total time=   0.3s\n",
      "[CV] END max_depth=10, min_samples_leaf=2, min_samples_split=2, n_estimators=100; total time=   0.1s\n",
      "[CV] END max_depth=10, min_samples_leaf=2, min_samples_split=2, n_estimators=100; total time=   0.1s\n",
      "[CV] END max_depth=10, min_samples_leaf=2, min_samples_split=2, n_estimators=100; total time=   0.1s\n",
      "[CV] END max_depth=10, min_samples_leaf=2, min_samples_split=2, n_estimators=100; total time=   0.1s\n",
      "[CV] END max_depth=10, min_samples_leaf=2, min_samples_split=2, n_estimators=100; total time=   0.1s\n",
      "[CV] END max_depth=10, min_samples_leaf=2, min_samples_split=2, n_estimators=200; total time=   0.2s\n",
      "[CV] END max_depth=10, min_samples_leaf=2, min_samples_split=2, n_estimators=200; total time=   0.2s\n",
      "[CV] END max_depth=10, min_samples_leaf=2, min_samples_split=2, n_estimators=200; total time=   0.2s\n",
      "[CV] END max_depth=10, min_samples_leaf=2, min_samples_split=2, n_estimators=200; total time=   0.2s\n",
      "[CV] END max_depth=10, min_samples_leaf=2, min_samples_split=2, n_estimators=200; total time=   0.3s\n",
      "[CV] END max_depth=10, min_samples_leaf=2, min_samples_split=2, n_estimators=300; total time=   0.4s\n",
      "[CV] END max_depth=10, min_samples_leaf=2, min_samples_split=2, n_estimators=300; total time=   0.3s\n",
      "[CV] END max_depth=10, min_samples_leaf=2, min_samples_split=2, n_estimators=300; total time=   0.3s\n",
      "[CV] END max_depth=10, min_samples_leaf=2, min_samples_split=2, n_estimators=300; total time=   0.3s\n",
      "[CV] END max_depth=10, min_samples_leaf=2, min_samples_split=2, n_estimators=300; total time=   0.3s\n",
      "[CV] END max_depth=10, min_samples_leaf=2, min_samples_split=5, n_estimators=100; total time=   0.1s\n",
      "[CV] END max_depth=10, min_samples_leaf=2, min_samples_split=5, n_estimators=100; total time=   0.1s\n",
      "[CV] END max_depth=10, min_samples_leaf=2, min_samples_split=5, n_estimators=100; total time=   0.1s\n",
      "[CV] END max_depth=10, min_samples_leaf=2, min_samples_split=5, n_estimators=100; total time=   0.1s\n",
      "[CV] END max_depth=10, min_samples_leaf=2, min_samples_split=5, n_estimators=100; total time=   0.1s\n",
      "[CV] END max_depth=10, min_samples_leaf=2, min_samples_split=5, n_estimators=200; total time=   0.2s\n",
      "[CV] END max_depth=10, min_samples_leaf=2, min_samples_split=5, n_estimators=200; total time=   0.2s\n",
      "[CV] END max_depth=10, min_samples_leaf=2, min_samples_split=5, n_estimators=200; total time=   0.2s\n",
      "[CV] END max_depth=10, min_samples_leaf=2, min_samples_split=5, n_estimators=200; total time=   0.2s\n",
      "[CV] END max_depth=10, min_samples_leaf=2, min_samples_split=5, n_estimators=200; total time=   0.2s\n",
      "[CV] END max_depth=10, min_samples_leaf=2, min_samples_split=5, n_estimators=300; total time=   0.3s\n",
      "[CV] END max_depth=10, min_samples_leaf=2, min_samples_split=5, n_estimators=300; total time=   0.3s\n",
      "[CV] END max_depth=10, min_samples_leaf=2, min_samples_split=5, n_estimators=300; total time=   0.3s\n",
      "[CV] END max_depth=10, min_samples_leaf=2, min_samples_split=5, n_estimators=300; total time=   0.3s\n",
      "[CV] END max_depth=10, min_samples_leaf=2, min_samples_split=5, n_estimators=300; total time=   0.3s\n",
      "[CV] END max_depth=20, min_samples_leaf=1, min_samples_split=2, n_estimators=100; total time=   0.1s\n",
      "[CV] END max_depth=20, min_samples_leaf=1, min_samples_split=2, n_estimators=100; total time=   0.1s\n",
      "[CV] END max_depth=20, min_samples_leaf=1, min_samples_split=2, n_estimators=100; total time=   0.1s\n",
      "[CV] END max_depth=20, min_samples_leaf=1, min_samples_split=2, n_estimators=100; total time=   0.1s\n",
      "[CV] END max_depth=20, min_samples_leaf=1, min_samples_split=2, n_estimators=100; total time=   0.1s\n",
      "[CV] END max_depth=20, min_samples_leaf=1, min_samples_split=2, n_estimators=200; total time=   0.2s\n",
      "[CV] END max_depth=20, min_samples_leaf=1, min_samples_split=2, n_estimators=200; total time=   0.2s\n",
      "[CV] END max_depth=20, min_samples_leaf=1, min_samples_split=2, n_estimators=200; total time=   0.2s\n",
      "[CV] END max_depth=20, min_samples_leaf=1, min_samples_split=2, n_estimators=200; total time=   0.2s\n",
      "[CV] END max_depth=20, min_samples_leaf=1, min_samples_split=2, n_estimators=200; total time=   0.2s\n",
      "[CV] END max_depth=20, min_samples_leaf=1, min_samples_split=2, n_estimators=300; total time=   0.4s\n",
      "[CV] END max_depth=20, min_samples_leaf=1, min_samples_split=2, n_estimators=300; total time=   0.4s\n",
      "[CV] END max_depth=20, min_samples_leaf=1, min_samples_split=2, n_estimators=300; total time=   0.4s\n",
      "[CV] END max_depth=20, min_samples_leaf=1, min_samples_split=2, n_estimators=300; total time=   0.4s\n",
      "[CV] END max_depth=20, min_samples_leaf=1, min_samples_split=2, n_estimators=300; total time=   0.4s\n",
      "[CV] END max_depth=20, min_samples_leaf=1, min_samples_split=5, n_estimators=100; total time=   0.1s\n",
      "[CV] END max_depth=20, min_samples_leaf=1, min_samples_split=5, n_estimators=100; total time=   0.1s\n",
      "[CV] END max_depth=20, min_samples_leaf=1, min_samples_split=5, n_estimators=100; total time=   0.1s\n",
      "[CV] END max_depth=20, min_samples_leaf=1, min_samples_split=5, n_estimators=100; total time=   0.1s\n",
      "[CV] END max_depth=20, min_samples_leaf=1, min_samples_split=5, n_estimators=100; total time=   0.1s\n",
      "[CV] END max_depth=20, min_samples_leaf=1, min_samples_split=5, n_estimators=200; total time=   0.2s\n",
      "[CV] END max_depth=20, min_samples_leaf=1, min_samples_split=5, n_estimators=200; total time=   0.2s\n",
      "[CV] END max_depth=20, min_samples_leaf=1, min_samples_split=5, n_estimators=200; total time=   0.3s\n",
      "[CV] END max_depth=20, min_samples_leaf=1, min_samples_split=5, n_estimators=200; total time=   0.2s\n",
      "[CV] END max_depth=20, min_samples_leaf=1, min_samples_split=5, n_estimators=200; total time=   0.2s\n",
      "[CV] END max_depth=20, min_samples_leaf=1, min_samples_split=5, n_estimators=300; total time=   0.3s\n",
      "[CV] END max_depth=20, min_samples_leaf=1, min_samples_split=5, n_estimators=300; total time=   0.3s\n",
      "[CV] END max_depth=20, min_samples_leaf=1, min_samples_split=5, n_estimators=300; total time=   0.3s\n",
      "[CV] END max_depth=20, min_samples_leaf=1, min_samples_split=5, n_estimators=300; total time=   0.3s\n",
      "[CV] END max_depth=20, min_samples_leaf=1, min_samples_split=5, n_estimators=300; total time=   0.3s\n",
      "[CV] END max_depth=20, min_samples_leaf=2, min_samples_split=2, n_estimators=100; total time=   0.1s\n",
      "[CV] END max_depth=20, min_samples_leaf=2, min_samples_split=2, n_estimators=100; total time=   0.1s\n",
      "[CV] END max_depth=20, min_samples_leaf=2, min_samples_split=2, n_estimators=100; total time=   0.1s\n",
      "[CV] END max_depth=20, min_samples_leaf=2, min_samples_split=2, n_estimators=100; total time=   0.1s\n",
      "[CV] END max_depth=20, min_samples_leaf=2, min_samples_split=2, n_estimators=100; total time=   0.1s\n",
      "[CV] END max_depth=20, min_samples_leaf=2, min_samples_split=2, n_estimators=200; total time=   0.2s\n",
      "[CV] END max_depth=20, min_samples_leaf=2, min_samples_split=2, n_estimators=200; total time=   0.2s\n",
      "[CV] END max_depth=20, min_samples_leaf=2, min_samples_split=2, n_estimators=200; total time=   0.2s\n",
      "[CV] END max_depth=20, min_samples_leaf=2, min_samples_split=2, n_estimators=200; total time=   0.2s\n",
      "[CV] END max_depth=20, min_samples_leaf=2, min_samples_split=2, n_estimators=200; total time=   0.2s\n",
      "[CV] END max_depth=20, min_samples_leaf=2, min_samples_split=2, n_estimators=300; total time=   0.3s\n",
      "[CV] END max_depth=20, min_samples_leaf=2, min_samples_split=2, n_estimators=300; total time=   0.3s\n",
      "[CV] END max_depth=20, min_samples_leaf=2, min_samples_split=2, n_estimators=300; total time=   0.3s\n",
      "[CV] END max_depth=20, min_samples_leaf=2, min_samples_split=2, n_estimators=300; total time=   0.3s\n",
      "[CV] END max_depth=20, min_samples_leaf=2, min_samples_split=2, n_estimators=300; total time=   0.3s\n",
      "[CV] END max_depth=20, min_samples_leaf=2, min_samples_split=5, n_estimators=100; total time=   0.1s\n",
      "[CV] END max_depth=20, min_samples_leaf=2, min_samples_split=5, n_estimators=100; total time=   0.1s\n",
      "[CV] END max_depth=20, min_samples_leaf=2, min_samples_split=5, n_estimators=100; total time=   0.1s\n",
      "[CV] END max_depth=20, min_samples_leaf=2, min_samples_split=5, n_estimators=100; total time=   0.1s\n",
      "[CV] END max_depth=20, min_samples_leaf=2, min_samples_split=5, n_estimators=100; total time=   0.1s\n",
      "[CV] END max_depth=20, min_samples_leaf=2, min_samples_split=5, n_estimators=200; total time=   0.2s\n",
      "[CV] END max_depth=20, min_samples_leaf=2, min_samples_split=5, n_estimators=200; total time=   0.2s\n",
      "[CV] END max_depth=20, min_samples_leaf=2, min_samples_split=5, n_estimators=200; total time=   0.2s\n",
      "[CV] END max_depth=20, min_samples_leaf=2, min_samples_split=5, n_estimators=200; total time=   0.3s\n",
      "[CV] END max_depth=20, min_samples_leaf=2, min_samples_split=5, n_estimators=200; total time=   0.2s\n",
      "[CV] END max_depth=20, min_samples_leaf=2, min_samples_split=5, n_estimators=300; total time=   0.3s\n",
      "[CV] END max_depth=20, min_samples_leaf=2, min_samples_split=5, n_estimators=300; total time=   0.3s\n",
      "[CV] END max_depth=20, min_samples_leaf=2, min_samples_split=5, n_estimators=300; total time=   0.3s\n",
      "[CV] END max_depth=20, min_samples_leaf=2, min_samples_split=5, n_estimators=300; total time=   0.3s\n",
      "[CV] END max_depth=20, min_samples_leaf=2, min_samples_split=5, n_estimators=300; total time=   0.3s\n",
      "[CV] END max_depth=None, min_samples_leaf=1, min_samples_split=2, n_estimators=100; total time=   0.1s\n",
      "[CV] END max_depth=None, min_samples_leaf=1, min_samples_split=2, n_estimators=100; total time=   0.1s\n",
      "[CV] END max_depth=None, min_samples_leaf=1, min_samples_split=2, n_estimators=100; total time=   0.1s\n",
      "[CV] END max_depth=None, min_samples_leaf=1, min_samples_split=2, n_estimators=100; total time=   0.1s\n",
      "[CV] END max_depth=None, min_samples_leaf=1, min_samples_split=2, n_estimators=100; total time=   0.1s\n",
      "[CV] END max_depth=None, min_samples_leaf=1, min_samples_split=2, n_estimators=200; total time=   0.2s\n",
      "[CV] END max_depth=None, min_samples_leaf=1, min_samples_split=2, n_estimators=200; total time=   0.3s\n",
      "[CV] END max_depth=None, min_samples_leaf=1, min_samples_split=2, n_estimators=200; total time=   0.3s\n",
      "[CV] END max_depth=None, min_samples_leaf=1, min_samples_split=2, n_estimators=200; total time=   0.3s\n",
      "[CV] END max_depth=None, min_samples_leaf=1, min_samples_split=2, n_estimators=200; total time=   0.3s\n",
      "[CV] END max_depth=None, min_samples_leaf=1, min_samples_split=2, n_estimators=300; total time=   0.4s\n",
      "[CV] END max_depth=None, min_samples_leaf=1, min_samples_split=2, n_estimators=300; total time=   0.4s\n",
      "[CV] END max_depth=None, min_samples_leaf=1, min_samples_split=2, n_estimators=300; total time=   0.4s\n",
      "[CV] END max_depth=None, min_samples_leaf=1, min_samples_split=2, n_estimators=300; total time=   0.4s\n",
      "[CV] END max_depth=None, min_samples_leaf=1, min_samples_split=2, n_estimators=300; total time=   0.4s\n",
      "[CV] END max_depth=None, min_samples_leaf=1, min_samples_split=5, n_estimators=100; total time=   0.1s\n",
      "[CV] END max_depth=None, min_samples_leaf=1, min_samples_split=5, n_estimators=100; total time=   0.1s\n",
      "[CV] END max_depth=None, min_samples_leaf=1, min_samples_split=5, n_estimators=100; total time=   0.1s\n",
      "[CV] END max_depth=None, min_samples_leaf=1, min_samples_split=5, n_estimators=100; total time=   0.1s\n",
      "[CV] END max_depth=None, min_samples_leaf=1, min_samples_split=5, n_estimators=100; total time=   0.1s\n",
      "[CV] END max_depth=None, min_samples_leaf=1, min_samples_split=5, n_estimators=200; total time=   0.2s\n",
      "[CV] END max_depth=None, min_samples_leaf=1, min_samples_split=5, n_estimators=200; total time=   0.2s\n",
      "[CV] END max_depth=None, min_samples_leaf=1, min_samples_split=5, n_estimators=200; total time=   0.2s\n",
      "[CV] END max_depth=None, min_samples_leaf=1, min_samples_split=5, n_estimators=200; total time=   0.2s\n",
      "[CV] END max_depth=None, min_samples_leaf=1, min_samples_split=5, n_estimators=200; total time=   0.2s\n",
      "[CV] END max_depth=None, min_samples_leaf=1, min_samples_split=5, n_estimators=300; total time=   0.3s\n",
      "[CV] END max_depth=None, min_samples_leaf=1, min_samples_split=5, n_estimators=300; total time=   0.3s\n",
      "[CV] END max_depth=None, min_samples_leaf=1, min_samples_split=5, n_estimators=300; total time=   0.3s\n",
      "[CV] END max_depth=None, min_samples_leaf=1, min_samples_split=5, n_estimators=300; total time=   0.3s\n",
      "[CV] END max_depth=None, min_samples_leaf=1, min_samples_split=5, n_estimators=300; total time=   0.3s\n",
      "[CV] END max_depth=None, min_samples_leaf=2, min_samples_split=2, n_estimators=100; total time=   0.1s\n",
      "[CV] END max_depth=None, min_samples_leaf=2, min_samples_split=2, n_estimators=100; total time=   0.1s\n",
      "[CV] END max_depth=None, min_samples_leaf=2, min_samples_split=2, n_estimators=100; total time=   0.1s\n",
      "[CV] END max_depth=None, min_samples_leaf=2, min_samples_split=2, n_estimators=100; total time=   0.1s\n",
      "[CV] END max_depth=None, min_samples_leaf=2, min_samples_split=2, n_estimators=100; total time=   0.1s\n",
      "[CV] END max_depth=None, min_samples_leaf=2, min_samples_split=2, n_estimators=200; total time=   0.2s\n",
      "[CV] END max_depth=None, min_samples_leaf=2, min_samples_split=2, n_estimators=200; total time=   0.2s\n",
      "[CV] END max_depth=None, min_samples_leaf=2, min_samples_split=2, n_estimators=200; total time=   0.2s\n",
      "[CV] END max_depth=None, min_samples_leaf=2, min_samples_split=2, n_estimators=200; total time=   0.2s\n",
      "[CV] END max_depth=None, min_samples_leaf=2, min_samples_split=2, n_estimators=200; total time=   0.2s\n",
      "[CV] END max_depth=None, min_samples_leaf=2, min_samples_split=2, n_estimators=300; total time=   0.3s\n",
      "[CV] END max_depth=None, min_samples_leaf=2, min_samples_split=2, n_estimators=300; total time=   0.3s\n",
      "[CV] END max_depth=None, min_samples_leaf=2, min_samples_split=2, n_estimators=300; total time=   0.3s\n",
      "[CV] END max_depth=None, min_samples_leaf=2, min_samples_split=2, n_estimators=300; total time=   0.3s\n",
      "[CV] END max_depth=None, min_samples_leaf=2, min_samples_split=2, n_estimators=300; total time=   0.3s\n",
      "[CV] END max_depth=None, min_samples_leaf=2, min_samples_split=5, n_estimators=100; total time=   0.1s\n",
      "[CV] END max_depth=None, min_samples_leaf=2, min_samples_split=5, n_estimators=100; total time=   0.1s\n",
      "[CV] END max_depth=None, min_samples_leaf=2, min_samples_split=5, n_estimators=100; total time=   0.1s\n",
      "[CV] END max_depth=None, min_samples_leaf=2, min_samples_split=5, n_estimators=100; total time=   0.1s\n",
      "[CV] END max_depth=None, min_samples_leaf=2, min_samples_split=5, n_estimators=100; total time=   0.1s\n",
      "[CV] END max_depth=None, min_samples_leaf=2, min_samples_split=5, n_estimators=200; total time=   0.2s\n",
      "[CV] END max_depth=None, min_samples_leaf=2, min_samples_split=5, n_estimators=200; total time=   0.2s\n",
      "[CV] END max_depth=None, min_samples_leaf=2, min_samples_split=5, n_estimators=200; total time=   0.2s\n",
      "[CV] END max_depth=None, min_samples_leaf=2, min_samples_split=5, n_estimators=200; total time=   0.2s\n",
      "[CV] END max_depth=None, min_samples_leaf=2, min_samples_split=5, n_estimators=200; total time=   0.2s\n",
      "[CV] END max_depth=None, min_samples_leaf=2, min_samples_split=5, n_estimators=300; total time=   0.3s\n",
      "[CV] END max_depth=None, min_samples_leaf=2, min_samples_split=5, n_estimators=300; total time=   0.3s\n",
      "[CV] END max_depth=None, min_samples_leaf=2, min_samples_split=5, n_estimators=300; total time=   0.3s\n",
      "[CV] END max_depth=None, min_samples_leaf=2, min_samples_split=5, n_estimators=300; total time=   0.3s\n",
      "[CV] END max_depth=None, min_samples_leaf=2, min_samples_split=5, n_estimators=300; total time=   0.3s\n",
      "Best parameters: {'max_depth': 10, 'min_samples_leaf': 2, 'min_samples_split': 2, 'n_estimators': 200}\n"
     ]
    }
   ],
   "source": [
    "#Define parameter grid for GridSearchCV\n",
    "param_grid = {\n",
    "    'n_estimators' : [100,200,300],\n",
    "    'max_depth' : [10,20,None ],\n",
    "    'min_samples_split' : [2,5],\n",
    "    'min_samples_leaf' : [1,2]\n",
    "}\n",
    "\n",
    "# initialise Random Forest Regressor\n",
    "rf = RandomForestRegressor(random_state =42)\n",
    "\n",
    "# Perform GridSearchCV\n",
    "grid_search = GridSearchCV(estimator =rf ,param_grid=param_grid,\n",
    "                           cv=5, scoring='neg_mean_squared_error', verbose=2, n_jobs=1)\n",
    "# fit the model\n",
    "grid_search.fit(X_train, y_train)\n",
    "\n",
    "# Extract the best model\n",
    "best_rf = grid_search.best_estimator_\n",
    "\n",
    "# Best parameters\n",
    "print(\"Best parameters:\", grid_search.best_params_)"
   ]
  },
  {
   "cell_type": "markdown",
   "id": "06fa03c2-3eca-4470-a739-1d54aec8c458",
   "metadata": {},
   "source": [
    "### Evaluation of Tuned Random Forest\n",
    "\n",
    "The tuned Random Forest model is evaluated on cross-validation and the test dataset.\n"
   ]
  },
  {
   "cell_type": "code",
   "execution_count": 21,
   "id": "96d8c909-81d8-4951-95bb-1bb2a94d5b2b",
   "metadata": {},
   "outputs": [
    {
     "name": "stdout",
     "output_type": "stream",
     "text": [
      "Tuned Random Forest Performance:\n",
      "Cross-validated RMSE: 848528.81\n",
      "Test RMSE: 197573.14\n",
      "Test R²: 0.75\n"
     ]
    },
    {
     "name": "stderr",
     "output_type": "stream",
     "text": [
      "/usr/local/Cellar/jupyterlab/4.1.6_1/libexec/lib/python3.12/site-packages/sklearn/metrics/_regression.py:483: FutureWarning: 'squared' is deprecated in version 1.4 and will be removed in 1.6. To calculate the root mean squared error, use the function'root_mean_squared_error'.\n",
      "  warnings.warn(\n"
     ]
    }
   ],
   "source": [
    "# Evaluate the tuned model using cross-validation\n",
    "cv_scores = cross_val_score(best_rf, X_train, y_train, cv=5, scoring='neg_mean_squared_error')\n",
    "cv_rmse = (-cv_scores.mean())**0.5\n",
    "\n",
    "# Test set evaluation\n",
    "best_rf_pred_test = best_rf.predict(X_test)\n",
    "\n",
    "print(\"Tuned Random Forest Performance:\")\n",
    "print(f\"Cross-validated RMSE: {cv_rmse:.2f}\")\n",
    "print(f\"Test RMSE: {mean_squared_error(y_test, best_rf_pred_test, squared=False):.2f}\")\n",
    "print(f\"Test R²: {r2_score(y_test, best_rf_pred_test):.2f}\")\n"
   ]
  },
  {
   "cell_type": "markdown",
   "id": "87b3dc79-8fcb-4cad-9255-05dd920a4b15",
   "metadata": {},
   "source": [
    "## Model Comparison\n",
    "\n",
    "Models are compared based on Cross-validated RMSE, Test RMSE, and R² scores. The best-performing model is selected for deployment.\n"
   ]
  },
  {
   "cell_type": "code",
   "execution_count": 26,
   "id": "5c374722-1514-44f3-8b88-d1abcc4f4c86",
   "metadata": {},
   "outputs": [
    {
     "name": "stdout",
     "output_type": "stream",
     "text": [
      "                   Model     Test RMSE   Test R²\n",
      "0      Linear Regression  276090.84968  0.519830\n",
      "1  Random Forest (Tuned)  197573.14245  0.754107\n"
     ]
    },
    {
     "name": "stderr",
     "output_type": "stream",
     "text": [
      "/usr/local/Cellar/jupyterlab/4.1.6_1/libexec/lib/python3.12/site-packages/sklearn/metrics/_regression.py:483: FutureWarning: 'squared' is deprecated in version 1.4 and will be removed in 1.6. To calculate the root mean squared error, use the function'root_mean_squared_error'.\n",
      "  warnings.warn(\n",
      "/usr/local/Cellar/jupyterlab/4.1.6_1/libexec/lib/python3.12/site-packages/sklearn/metrics/_regression.py:483: FutureWarning: 'squared' is deprecated in version 1.4 and will be removed in 1.6. To calculate the root mean squared error, use the function'root_mean_squared_error'.\n",
      "  warnings.warn(\n"
     ]
    }
   ],
   "source": [
    "# Create a comparison table\n",
    "results = {\n",
    "    \"Model\": [\"Linear Regression\", \"Random Forest (Tuned)\"],\n",
    "    \"Test RMSE\": [\n",
    "        mean_squared_error(y_test, pred_test, squared=False),\n",
    "        mean_squared_error(y_test, best_rf_pred_test, squared=False)\n",
    "    ],\n",
    "    \"Test R²\": [\n",
    "        r2_score(y_test, pred_test),\n",
    "        r2_score(y_test, best_rf_pred_test)\n",
    "    ]\n",
    "}\n",
    "\n",
    "results_df = pd.DataFrame(results)\n",
    "print(results_df)\n"
   ]
  },
  {
   "cell_type": "markdown",
   "id": "ea22c46c-38e7-4527-9482-563cb7e316e4",
   "metadata": {},
   "source": [
    "## Model Comparison Results\n",
    "\n",
    "- **Linear Regression**:\n",
    "  - Test RMSE: ~276,091\n",
    "  - Test R²: 51.9%\n",
    "\n",
    "- **Random Forest (Tuned)**:\n",
    "  - Test RMSE: ~197,573\n",
    "  - Test R²: 75.4%\n",
    "\n",
    "### Key Insights\n",
    "- The Tuned Random Forest model significantly outperforms the baseline Linear Regression model.\n",
    "- The Random Forest model explains ~75% of the variance in the `median_price`, making it the best-performing model.\n"
   ]
  },
  {
   "cell_type": "markdown",
   "id": "eb54c50f-8ad5-441a-941d-16e61054d3a3",
   "metadata": {},
   "source": [
    "## Save the Best Model\n",
    "\n",
    "The best-performing model (tuned Random Forest) is saved for deployment or future use.\n"
   ]
  },
  {
   "cell_type": "code",
   "execution_count": 32,
   "id": "9ae81c7f-c549-4ab9-80a4-cf0e086450df",
   "metadata": {},
   "outputs": [
    {
     "name": "stdout",
     "output_type": "stream",
     "text": [
      "Best model saved to models/best_model.pkl\n"
     ]
    }
   ],
   "source": [
    "# Save the best model\n",
    "joblib.dump(best_rf, '/Users/ebythomas/Documents/GitHub/Melbourne_Housing_Analytics/models/best_model.pkl')\n",
    "print(\"Best model saved to models/best_model.pkl\")\n"
   ]
  },
  {
   "cell_type": "markdown",
   "id": "e2739c30-29ec-450e-9ee8-9813b05b05b4",
   "metadata": {},
   "source": [
    "## Residual Plot for Tuned Random Forest\n",
    "\n",
    "The residual plot helps to analyze the prediction errors of the tuned Random Forest model. \n",
    "\n",
    "### Observations:\n",
    "- Residuals are randomly distributed around zero, which indicates that the model predictions are unbiased.\n",
    "- However, some outliers exist with higher residuals, suggesting areas where the model struggles to predict accurately.\n",
    "\n",
    "The residual plot confirms that the Random Forest model performs well but could benefit from additional feature engineering or data transformations to handle outliers.\n"
   ]
  },
  {
   "cell_type": "code",
   "execution_count": 27,
   "id": "83a54e56-0616-4eb6-8f73-8a4f3d765cfa",
   "metadata": {},
   "outputs": [
    {
     "data": {
      "image/png": "[encoded data removed]",
      "text/plain": [
       "<Figure size 1000x600 with 1 Axes>"
      ]
     },
     "metadata": {},
     "output_type": "display_data"
    }
   ],
   "source": [
    "\n",
    "# Calculate residuals\n",
    "residuals = y_test - best_rf_pred_test\n",
    "\n",
    "# Plot residuals\n",
    "plt.figure(figsize=(10, 6))\n",
    "plt.scatter(y_test, residuals, alpha=0.7)\n",
    "plt.axhline(0, color='red', linestyle='--')\n",
    "plt.xlabel(\"Actual Prices\")\n",
    "plt.ylabel(\"Residuals\")\n",
    "plt.title(\"Residual Plot for Tuned Random Forest\")\n",
    "plt.show()\n"
   ]
  },
  {
   "cell_type": "markdown",
   "id": "2e29d6dc-c25d-4a0d-b38b-5cb6877db19f",
   "metadata": {},
   "source": [
    "## Feature Importance in Tuned Random Forest\n",
    "\n",
    "The feature importance plot highlights which features contribute most to predicting `median_price`.\n",
    "\n",
    "### Observations:\n",
    "- **`rolling_avg_price`** is the most significant predictor, indicating that historical price trends strongly influence the model's predictions.\n",
    "- **`transaction_density`** also plays a crucial role, showing that normalized transaction counts provide valuable insights.\n",
    "- Other features like `sale_year`, `type_encoded`, and `transaction_count` have lower contributions.\n",
    "\n",
    "This analysis helps identify which features are critical for predictions and may guide future feature engineering efforts.\n"
   ]
  },
  {
   "cell_type": "code",
   "execution_count": 28,
   "id": "ee86f2b9-53f7-487e-98ff-294eddfcd170",
   "metadata": {},
   "outputs": [
    {
     "data": {
      "image/png": "[encoded data removed]",
      "text/plain": [
       "<Figure size 1000x600 with 1 Axes>"
      ]
     },
     "metadata": {},
     "output_type": "display_data"
    }
   ],
   "source": [
    "importances = best_rf.feature_importances_\n",
    "feature_names = X.columns\n",
    "\n",
    "# Plot feature importance\n",
    "plt.figure(figsize=(10, 6))\n",
    "plt.barh(feature_names, importances)\n",
    "plt.xlabel(\"Feature Importance\")\n",
    "plt.ylabel(\"Features\")\n",
    "plt.title(\"Feature Importance in Tuned Random Forest\")\n",
    "plt.show()\n"
   ]
  },
  {
   "cell_type": "markdown",
   "id": "7c021a7d-15bc-4038-9912-5eb3897c34a8",
   "metadata": {},
   "source": [
    "# Detailed Summary\n",
    "\n",
    "## 1. Model Comparison\n",
    "\n",
    "The table below compares the performance of the baseline (Linear Regression) and the tuned Random Forest model:\n",
    "\n",
    "| **Model**              | **Test RMSE** | **Test R²** |\n",
    "|-------------------------|---------------|-------------|\n",
    "| Linear Regression       | 276,091       | 0.519       |\n",
    "| Random Forest (Tuned)   | 197,573       | 0.754       |\n",
    "\n",
    "### Key Observations:\n",
    "1. The **Random Forest model** significantly outperforms Linear Regression:\n",
    "   - RMSE is reduced by approximately 28%, indicating better accuracy.\n",
    "   - R² increases from 51.9% to 75.4%, explaining more variance in `median_price`.\n",
    "\n",
    "2. Random Forest's ability to capture nonlinear relationships and feature interactions makes it more suitable for this dataset.\n"
   ]
  },
  {
   "cell_type": "markdown",
   "id": "180550c9-2e58-41f7-9ea7-7d790b12a1e0",
   "metadata": {},
   "source": [
    "## 4. Conclusion\n",
    "\n",
    "The Random Forest model is the best-performing model for this project, providing significant improvements over Linear Regression.\n",
    "\n",
    "### Achievements:\n",
    "- Successfully predicted housing `median_price` using a combination of historical trends and transaction data.\n",
    "- Enhanced accuracy by leveraging Random Forest's ability to handle nonlinear relationships and feature interactions.\n",
    "\n",
    "### Next Steps:\n",
    "\n",
    "1. **Deployment**:\n",
    "   - Use the saved model for real-time predictions via a dashboard or API.\n",
    "2. **Future Applications**:\n",
    "   - Extend this analysis to other cities or regions to validate the model's generalizability.\n",
    "\n",
    "The best-performing Random Forest model has been saved and is ready for deployment.\n"
   ]
  },
  {
   "cell_type": "code",
   "execution_count": null,
   "id": "0df00df3-6c1b-49c6-abd4-b4e3306e90b0",
   "metadata": {},
   "outputs": [],
   "source": []
  }
 ],
 "metadata": {
  "kernelspec": {
   "display_name": "Python 3 (ipykernel)",
   "language": "python",
   "name": "python3"
  },
  "language_info": {
   "codemirror_mode": {
    "name": "ipython",
    "version": 3
   },
   "file_extension": ".py",
   "mimetype": "text/x-python",
   "name": "python",
   "nbconvert_exporter": "python",
   "pygments_lexer": "ipython3",
   "version": "3.12.3"
  }
 },
 "nbformat": 4,
 "nbformat_minor": 5
}
