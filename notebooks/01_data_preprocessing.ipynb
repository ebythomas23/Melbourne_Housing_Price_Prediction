{
 "cells": [
  {
   "cell_type": "markdown",
   "id": "eb46a630-54a2-4af0-94bb-c60947cae665",
   "metadata": {},
   "source": [
    "# Data Preprocessing Notebook\n",
    "\n",
    "## Purpose\n",
    "This notebook focuses on **loading**, **cleaning**, and **preparing** the raw dataset for analysis. The cleaned dataset will be saved for further exploratory data analysis and modeling.\n",
    "\n",
    "## Objectives\n",
    "1. Load the raw dataset and inspect its structure.\n",
    "2. Handle missing values in critical columns.\n",
    "3. Perform data cleaning tasks like removing duplicates and correcting data types.\n",
    "4. Encode categorical variables into numerical format for modeling.\n",
    "5. Save the cleaned dataset for further analysis.\n",
    "\n",
    "---\n"
   ]
  },
  {
   "cell_type": "code",
   "execution_count": 67,
   "id": "afe1604a-083b-445e-8524-4932827d4691",
   "metadata": {},
   "outputs": [],
   "source": [
    "import pandas as pd\n",
    "from sklearn.preprocessing import LabelEncoder"
   ]
  },
  {
   "cell_type": "markdown",
   "id": "f513086c-11c6-4af8-9036-d488e485fd54",
   "metadata": {},
   "source": [
    "## Load the Dataset\n",
    "\n",
    "Load the raw dataset from the `data/raw/` folder and inspect its structure using `.head()`, `.info()`, and `.describe()`.\n"
   ]
  },
  {
   "cell_type": "code",
   "execution_count": 68,
   "id": "97f6621a-d04c-4c63-8479-cfbe4193bfe9",
   "metadata": {
    "editable": true,
    "slideshow": {
     "slide_type": ""
    },
    "tags": []
   },
   "outputs": [],
   "source": [
    "melbourne_file_path = '/Users/ebythomas/Documents/GitHub/Melbourne_Housing_Analytics/data/raw/house-prices-by-small-area-sale-year.csv'\n",
    "housing_data = pd.read_csv(melbourne_file_path)"
   ]
  },
  {
   "cell_type": "code",
   "execution_count": 69,
   "id": "569cd6f2-09fd-4713-ae46-9f113ee90a99",
   "metadata": {},
   "outputs": [
    {
     "data": {
      "text/html": [
       "<div>\n",
       "<style scoped>\n",
       "    .dataframe tbody tr th:only-of-type {\n",
       "        vertical-align: middle;\n",
       "    }\n",
       "\n",
       "    .dataframe tbody tr th {\n",
       "        vertical-align: top;\n",
       "    }\n",
       "\n",
       "    .dataframe thead th {\n",
       "        text-align: right;\n",
       "    }\n",
       "</style>\n",
       "<table border=\"1\" class=\"dataframe\">\n",
       "  <thead>\n",
       "    <tr style=\"text-align: right;\">\n",
       "      <th></th>\n",
       "      <th>sale_year</th>\n",
       "      <th>median_price</th>\n",
       "      <th>transaction_count</th>\n",
       "    </tr>\n",
       "  </thead>\n",
       "  <tbody>\n",
       "    <tr>\n",
       "      <th>count</th>\n",
       "      <td>347.000000</td>\n",
       "      <td>3.190000e+02</td>\n",
       "      <td>347.000000</td>\n",
       "    </tr>\n",
       "    <tr>\n",
       "      <th>mean</th>\n",
       "      <td>2008.268012</td>\n",
       "      <td>6.612860e+05</td>\n",
       "      <td>277.051873</td>\n",
       "    </tr>\n",
       "    <tr>\n",
       "      <th>std</th>\n",
       "      <td>4.928411</td>\n",
       "      <td>8.863439e+05</td>\n",
       "      <td>480.421188</td>\n",
       "    </tr>\n",
       "    <tr>\n",
       "      <th>min</th>\n",
       "      <td>2000.000000</td>\n",
       "      <td>0.000000e+00</td>\n",
       "      <td>1.000000</td>\n",
       "    </tr>\n",
       "    <tr>\n",
       "      <th>25%</th>\n",
       "      <td>2004.000000</td>\n",
       "      <td>3.662810e+05</td>\n",
       "      <td>44.500000</td>\n",
       "    </tr>\n",
       "    <tr>\n",
       "      <th>50%</th>\n",
       "      <td>2008.000000</td>\n",
       "      <td>4.873000e+05</td>\n",
       "      <td>118.000000</td>\n",
       "    </tr>\n",
       "    <tr>\n",
       "      <th>75%</th>\n",
       "      <td>2013.000000</td>\n",
       "      <td>6.787500e+05</td>\n",
       "      <td>224.000000</td>\n",
       "    </tr>\n",
       "    <tr>\n",
       "      <th>max</th>\n",
       "      <td>2016.000000</td>\n",
       "      <td>1.430000e+07</td>\n",
       "      <td>3766.000000</td>\n",
       "    </tr>\n",
       "  </tbody>\n",
       "</table>\n",
       "</div>"
      ],
      "text/plain": [
       "         sale_year  median_price  transaction_count\n",
       "count   347.000000  3.190000e+02         347.000000\n",
       "mean   2008.268012  6.612860e+05         277.051873\n",
       "std       4.928411  8.863439e+05         480.421188\n",
       "min    2000.000000  0.000000e+00           1.000000\n",
       "25%    2004.000000  3.662810e+05          44.500000\n",
       "50%    2008.000000  4.873000e+05         118.000000\n",
       "75%    2013.000000  6.787500e+05         224.000000\n",
       "max    2016.000000  1.430000e+07        3766.000000"
      ]
     },
     "execution_count": 69,
     "metadata": {},
     "output_type": "execute_result"
    }
   ],
   "source": [
    "housing_data.describe()"
   ]
  },
  {
   "cell_type": "code",
   "execution_count": 70,
   "id": "4d737fd5-c033-4333-97bc-4fd574fc8a65",
   "metadata": {},
   "outputs": [
    {
     "data": {
      "text/html": [
       "<div>\n",
       "<style scoped>\n",
       "    .dataframe tbody tr th:only-of-type {\n",
       "        vertical-align: middle;\n",
       "    }\n",
       "\n",
       "    .dataframe tbody tr th {\n",
       "        vertical-align: top;\n",
       "    }\n",
       "\n",
       "    .dataframe thead th {\n",
       "        text-align: right;\n",
       "    }\n",
       "</style>\n",
       "<table border=\"1\" class=\"dataframe\">\n",
       "  <thead>\n",
       "    <tr style=\"text-align: right;\">\n",
       "      <th></th>\n",
       "      <th>sale_year</th>\n",
       "      <th>small_area</th>\n",
       "      <th>type</th>\n",
       "      <th>median_price</th>\n",
       "      <th>transaction_count</th>\n",
       "    </tr>\n",
       "  </thead>\n",
       "  <tbody>\n",
       "    <tr>\n",
       "      <th>0</th>\n",
       "      <td>2000</td>\n",
       "      <td>Carlton</td>\n",
       "      <td>House/Townhouse</td>\n",
       "      <td>316250.0</td>\n",
       "      <td>116</td>\n",
       "    </tr>\n",
       "    <tr>\n",
       "      <th>1</th>\n",
       "      <td>2000</td>\n",
       "      <td>Carlton</td>\n",
       "      <td>Residential Apartment</td>\n",
       "      <td>220000.0</td>\n",
       "      <td>309</td>\n",
       "    </tr>\n",
       "    <tr>\n",
       "      <th>2</th>\n",
       "      <td>2000</td>\n",
       "      <td>East Melbourne</td>\n",
       "      <td>House/Townhouse</td>\n",
       "      <td>622500.0</td>\n",
       "      <td>42</td>\n",
       "    </tr>\n",
       "    <tr>\n",
       "      <th>3</th>\n",
       "      <td>2000</td>\n",
       "      <td>East Melbourne</td>\n",
       "      <td>Residential Apartment</td>\n",
       "      <td>295000.0</td>\n",
       "      <td>139</td>\n",
       "    </tr>\n",
       "    <tr>\n",
       "      <th>4</th>\n",
       "      <td>2000</td>\n",
       "      <td>Kensington</td>\n",
       "      <td>House/Townhouse</td>\n",
       "      <td>215250.0</td>\n",
       "      <td>258</td>\n",
       "    </tr>\n",
       "  </tbody>\n",
       "</table>\n",
       "</div>"
      ],
      "text/plain": [
       "   sale_year      small_area                   type  median_price  \\\n",
       "0       2000         Carlton        House/Townhouse      316250.0   \n",
       "1       2000         Carlton  Residential Apartment      220000.0   \n",
       "2       2000  East Melbourne        House/Townhouse      622500.0   \n",
       "3       2000  East Melbourne  Residential Apartment      295000.0   \n",
       "4       2000      Kensington        House/Townhouse      215250.0   \n",
       "\n",
       "   transaction_count  \n",
       "0                116  \n",
       "1                309  \n",
       "2                 42  \n",
       "3                139  \n",
       "4                258  "
      ]
     },
     "execution_count": 70,
     "metadata": {},
     "output_type": "execute_result"
    }
   ],
   "source": [
    "housing_data.head()"
   ]
  },
  {
   "cell_type": "code",
   "execution_count": 71,
   "id": "db3c8ff2-6c05-466c-a9fc-d98a124f82e8",
   "metadata": {},
   "outputs": [
    {
     "name": "stdout",
     "output_type": "stream",
     "text": [
      "<class 'pandas.core.frame.DataFrame'>\n",
      "RangeIndex: 347 entries, 0 to 346\n",
      "Data columns (total 5 columns):\n",
      " #   Column             Non-Null Count  Dtype  \n",
      "---  ------             --------------  -----  \n",
      " 0   sale_year          347 non-null    int64  \n",
      " 1   small_area         340 non-null    object \n",
      " 2   type               347 non-null    object \n",
      " 3   median_price       319 non-null    float64\n",
      " 4   transaction_count  347 non-null    int64  \n",
      "dtypes: float64(1), int64(2), object(2)\n",
      "memory usage: 13.7+ KB\n"
     ]
    }
   ],
   "source": [
    "housing_data.info()"
   ]
  },
  {
   "cell_type": "markdown",
   "id": "0a87731a-122f-4e37-9f5d-41183ef9e009",
   "metadata": {},
   "source": [
    "## Inspect and Handle Missing Values\n",
    "\n",
    "Identify missing values in `small_area` and `median_price`. Decide whether to impute, remove rows, or handle them another way.\n"
   ]
  },
  {
   "cell_type": "code",
   "execution_count": 72,
   "id": "98c40d0f-51c6-48c6-abcc-053e73dddf30",
   "metadata": {
    "scrolled": true
   },
   "outputs": [
    {
     "data": {
      "text/plain": [
       "['small_area', 'median_price']"
      ]
     },
     "execution_count": 72,
     "metadata": {},
     "output_type": "execute_result"
    }
   ],
   "source": [
    "#get names of columns with  missing values\n",
    "cols_with_missing =[col for col in housing_data.columns\n",
    "                     if housing_data[col].isnull().any()]\n",
    "cols_with_missing\n"
   ]
  },
  {
   "cell_type": "code",
   "execution_count": 73,
   "id": "07d18895-e49b-4320-ad3f-7466733556be",
   "metadata": {},
   "outputs": [
    {
     "name": "stdout",
     "output_type": "stream",
     "text": [
      "sale_year            0.000000\n",
      "small_area           2.017291\n",
      "type                 0.000000\n",
      "median_price         8.069164\n",
      "transaction_count    0.000000\n",
      "dtype: float64\n"
     ]
    }
   ],
   "source": [
    "# Calculate the percentage of missing values\n",
    "missing_percentage = (housing_data.isnull().sum() / len(housing_data)) * 100\n",
    "print(missing_percentage)"
   ]
  },
  {
   "cell_type": "markdown",
   "id": "addecf78-e035-463a-865f-0ef7cc9298f4",
   "metadata": {},
   "source": [
    " for small_area columns ,Since missing percentage is low (2 %) , so can drop those rows\n"
   ]
  },
  {
   "cell_type": "code",
   "execution_count": 74,
   "id": "aec6a7a8-bc85-4ff4-ad2d-8ac086b56184",
   "metadata": {},
   "outputs": [],
   "source": [
    "housing_data.dropna(subset=['small_area'],inplace=True)"
   ]
  },
  {
   "cell_type": "markdown",
   "id": "adafe81b-a950-4637-abe8-fefedfd4040e",
   "metadata": {},
   "source": [
    "Since median_price is a numerical column and missing percentage is 8 %, we can Impute with Median (grouped by \"type\" for more context-aware imputation)"
   ]
  },
  {
   "cell_type": "code",
   "execution_count": 75,
   "id": "349b3ac4-799c-4fe8-874c-c6aefe8164e8",
   "metadata": {},
   "outputs": [],
   "source": [
    "housing_data['median_price'] = housing_data.groupby('type')['median_price'].transform(lambda x: x.fillna(x.median()))\n"
   ]
  },
  {
   "cell_type": "code",
   "execution_count": 76,
   "id": "6c15145f-bca5-4107-a390-93dfd60511ed",
   "metadata": {},
   "outputs": [
    {
     "name": "stdout",
     "output_type": "stream",
     "text": [
      "sale_year            0\n",
      "small_area           0\n",
      "type                 0\n",
      "median_price         0\n",
      "transaction_count    0\n",
      "dtype: int64\n"
     ]
    }
   ],
   "source": [
    "# recheck for nulls to ensure no issues remain:\n",
    "\n",
    "print(housing_data.isnull().sum())"
   ]
  },
  {
   "cell_type": "markdown",
   "id": "c68f317c-17e6-45a3-98a9-1b759e179299",
   "metadata": {},
   "source": [
    "## Data Cleaning\n",
    "\n",
    "Perform the following tasks:\n",
    "1. Drop duplicate rows if any.\n",
    "2. Ensure appropriate data types (e.g., convert `sale_year` to integer).\n"
   ]
  },
  {
   "cell_type": "code",
   "execution_count": 77,
   "id": "17070054-8c17-45ae-9194-3e7026630a3c",
   "metadata": {},
   "outputs": [
    {
     "name": "stdout",
     "output_type": "stream",
     "text": [
      "number of duplicate rows in the dataset : 0\n"
     ]
    }
   ],
   "source": [
    "\n",
    "duplicate_count = housing_data.duplicated().sum()\n",
    "print(f\"number of duplicate rows in the dataset : {duplicate_count}\")"
   ]
  },
  {
   "cell_type": "markdown",
   "id": "baaa6267-d39e-4ecc-881c-9ca913b762a4",
   "metadata": {},
   "source": [
    " Check for data types of the dataset"
   ]
  },
  {
   "cell_type": "code",
   "execution_count": 78,
   "id": "83c4821c-80b6-4f6f-aebd-d16ca3703dec",
   "metadata": {},
   "outputs": [
    {
     "data": {
      "text/plain": [
       "sale_year              int64\n",
       "small_area            object\n",
       "type                  object\n",
       "median_price         float64\n",
       "transaction_count      int64\n",
       "dtype: object"
      ]
     },
     "execution_count": 78,
     "metadata": {},
     "output_type": "execute_result"
    }
   ],
   "source": [
    "housing_data.dtypes"
   ]
  },
  {
   "cell_type": "markdown",
   "id": "14cf828f-bb50-4a83-9112-7aa0f73d1cdf",
   "metadata": {},
   "source": [
    "## Categorical Encoding\n",
    "\n",
    "Encode the `type` and `small_area` columns using **Label Encoding** to convert categorical data into numerical format.\n",
    "\n"
   ]
  },
  {
   "cell_type": "code",
   "execution_count": 79,
   "id": "bfc08327-df3c-4569-a2b0-172117f971c4",
   "metadata": {},
   "outputs": [
    {
     "name": "stdout",
     "output_type": "stream",
     "text": [
      "\n",
      " Unique values in small_area :['Carlton' 'East Melbourne' 'Kensington' 'Melbourne (CBD)'\n",
      " 'Melbourne (Remainder)' 'North Melbourne' 'Parkville' 'South Yarra'\n",
      " 'West Melbourne (Residential)' 'Southbank' 'Docklands']\n",
      "\n",
      " Unique values in type :['House/Townhouse' 'Residential Apartment']\n"
     ]
    }
   ],
   "source": [
    "# Get number of unique entries in each column with categorical data\n",
    "categorical_columns = housing_data.select_dtypes(include=['object']).columns\n",
    "\n",
    "for col in categorical_columns:\n",
    "    print(f\"\\n Unique values in {col} :{housing_data[col].unique()}\")"
   ]
  },
  {
   "cell_type": "code",
   "execution_count": 80,
   "id": "656a8092-c0f0-4c2c-ba39-40ce735c22aa",
   "metadata": {},
   "outputs": [
    {
     "name": "stdout",
     "output_type": "stream",
     "text": [
      "Label Encoding Mapping for 'type' (Encoded Value → Actual Value):\n",
      "0 → House/Townhouse\n",
      "1 → Residential Apartment\n",
      "\n",
      "Label Encoding Mapping for 'small_area' (Encoded Value → Actual Value):\n",
      "0 → Carlton\n",
      "1 → Docklands\n",
      "2 → East Melbourne\n",
      "3 → Kensington\n",
      "4 → Melbourne (CBD)\n",
      "5 → Melbourne (Remainder)\n",
      "6 → North Melbourne\n",
      "7 → Parkville\n",
      "8 → South Yarra\n",
      "9 → Southbank\n",
      "10 → West Melbourne (Residential)\n"
     ]
    }
   ],
   "source": [
    "# Initialize LabelEncoder\n",
    "label_encoder = LabelEncoder()\n",
    "\n",
    "# Apply Label Encoding to the 'type' column\n",
    "housing_data['type_encoded'] = label_encoder.fit_transform(housing_data['type'])\n",
    "\n",
    "# Create and print the mapping for 'type'\n",
    "type_mapping = dict(zip(label_encoder.transform(label_encoder.classes_), label_encoder.classes_))\n",
    "print(\"Label Encoding Mapping for 'type' (Encoded Value → Actual Value):\")\n",
    "for encoded, actual in type_mapping.items():\n",
    "    print(f\"{encoded} → {actual}\")\n",
    "\n",
    "# Apply Label Encoding to the 'small_area' column\n",
    "housing_data['small_area_encoded'] = label_encoder.fit_transform(housing_data['small_area'])\n",
    "\n",
    "# Create and print the mapping for 'small_area'\n",
    "small_area_mapping = dict(zip(label_encoder.transform(label_encoder.classes_), label_encoder.classes_))\n",
    "print(\"\\nLabel Encoding Mapping for 'small_area' (Encoded Value → Actual Value):\")\n",
    "for encoded, actual in small_area_mapping.items():\n",
    "    print(f\"{encoded} → {actual}\")\n",
    "\n",
    "\n",
    "\n",
    "\n"
   ]
  },
  {
   "cell_type": "markdown",
   "id": "2caf5ab8-98d4-48cd-9abc-fe3c259bba67",
   "metadata": {},
   "source": [
    "Drop the original 'small_area' and 'type' columns as we converted into those "
   ]
  },
  {
   "cell_type": "code",
   "execution_count": 59,
   "id": "ba97b3ee-341f-4a68-8275-d67b2dfd6dd3",
   "metadata": {},
   "outputs": [],
   "source": [
    "\n",
    "\n",
    "housing_data.drop(['small_area','type'],axis=1, inplace =True)\n"
   ]
  },
  {
   "cell_type": "markdown",
   "id": "6df6f603-e731-4a5b-b36b-86777e9e621e",
   "metadata": {},
   "source": [
    "Lets have a look at the cleaned preprocessed dataset\n"
   ]
  },
  {
   "cell_type": "code",
   "execution_count": 61,
   "id": "4112179a-9f38-4db7-8a45-ced4b0d80dc7",
   "metadata": {},
   "outputs": [
    {
     "data": {
      "text/html": [
       "<div>\n",
       "<style scoped>\n",
       "    .dataframe tbody tr th:only-of-type {\n",
       "        vertical-align: middle;\n",
       "    }\n",
       "\n",
       "    .dataframe tbody tr th {\n",
       "        vertical-align: top;\n",
       "    }\n",
       "\n",
       "    .dataframe thead th {\n",
       "        text-align: right;\n",
       "    }\n",
       "</style>\n",
       "<table border=\"1\" class=\"dataframe\">\n",
       "  <thead>\n",
       "    <tr style=\"text-align: right;\">\n",
       "      <th></th>\n",
       "      <th>sale_year</th>\n",
       "      <th>median_price</th>\n",
       "      <th>transaction_count</th>\n",
       "      <th>type_encoded</th>\n",
       "      <th>small_area_encoded</th>\n",
       "    </tr>\n",
       "  </thead>\n",
       "  <tbody>\n",
       "    <tr>\n",
       "      <th>0</th>\n",
       "      <td>2000</td>\n",
       "      <td>316250.0</td>\n",
       "      <td>116</td>\n",
       "      <td>0</td>\n",
       "      <td>0</td>\n",
       "    </tr>\n",
       "    <tr>\n",
       "      <th>1</th>\n",
       "      <td>2000</td>\n",
       "      <td>220000.0</td>\n",
       "      <td>309</td>\n",
       "      <td>1</td>\n",
       "      <td>0</td>\n",
       "    </tr>\n",
       "    <tr>\n",
       "      <th>2</th>\n",
       "      <td>2000</td>\n",
       "      <td>622500.0</td>\n",
       "      <td>42</td>\n",
       "      <td>0</td>\n",
       "      <td>2</td>\n",
       "    </tr>\n",
       "    <tr>\n",
       "      <th>3</th>\n",
       "      <td>2000</td>\n",
       "      <td>295000.0</td>\n",
       "      <td>139</td>\n",
       "      <td>1</td>\n",
       "      <td>2</td>\n",
       "    </tr>\n",
       "    <tr>\n",
       "      <th>4</th>\n",
       "      <td>2000</td>\n",
       "      <td>215250.0</td>\n",
       "      <td>258</td>\n",
       "      <td>0</td>\n",
       "      <td>3</td>\n",
       "    </tr>\n",
       "  </tbody>\n",
       "</table>\n",
       "</div>"
      ],
      "text/plain": [
       "   sale_year  median_price  transaction_count  type_encoded  \\\n",
       "0       2000      316250.0                116             0   \n",
       "1       2000      220000.0                309             1   \n",
       "2       2000      622500.0                 42             0   \n",
       "3       2000      295000.0                139             1   \n",
       "4       2000      215250.0                258             0   \n",
       "\n",
       "   small_area_encoded  \n",
       "0                   0  \n",
       "1                   0  \n",
       "2                   2  \n",
       "3                   2  \n",
       "4                   3  "
      ]
     },
     "execution_count": 61,
     "metadata": {},
     "output_type": "execute_result"
    }
   ],
   "source": [
    "housing_data.head()\n"
   ]
  },
  {
   "cell_type": "code",
   "execution_count": 63,
   "id": "4abd3525-5b00-4edc-9a02-a5d593d4df15",
   "metadata": {},
   "outputs": [
    {
     "data": {
      "text/plain": [
       "(340, 5)"
      ]
     },
     "execution_count": 63,
     "metadata": {},
     "output_type": "execute_result"
    }
   ],
   "source": [
    "housing_data.shape"
   ]
  },
  {
   "cell_type": "markdown",
   "id": "9e93f4b8-8849-4a88-8cb6-d89831a0f643",
   "metadata": {},
   "source": [
    "## Save Cleaned Data\n",
    "\n",
    "Save the cleaned dataset to the `data/processed/` folder as `cleaned_housing_data.csv` for use in subsequent analysis.\n"
   ]
  },
  {
   "cell_type": "code",
   "execution_count": 65,
   "id": "2170c082-dc18-46de-9b11-c3091826c50d",
   "metadata": {},
   "outputs": [
    {
     "name": "stdout",
     "output_type": "stream",
     "text": [
      "Cleaned dataset saved to /Users/ebythomas/Documents/GitHub/Melbourne_Housing_Analytics/data/processed/cleaned_housing_data.csv\n"
     ]
    }
   ],
   "source": [
    "processed_path = '/Users/ebythomas/Documents/GitHub/Melbourne_Housing_Analytics/data/processed/cleaned_housing_data.csv'\n",
    "housing_data.to_csv(processed_path, index =False)\n",
    "\n",
    "\n",
    "print(f\"Cleaned dataset saved to {processed_path}\")\n"
   ]
  },
  {
   "cell_type": "code",
   "execution_count": null,
   "id": "9ec224c5-baa9-45f8-9691-8583db5313d6",
   "metadata": {},
   "outputs": [],
   "source": []
  }
 ],
 "metadata": {
  "kernelspec": {
   "display_name": "Python 3 (ipykernel)",
   "language": "python",
   "name": "python3"
  },
  "language_info": {
   "codemirror_mode": {
    "name": "ipython",
    "version": 3
   },
   "file_extension": ".py",
   "mimetype": "text/x-python",
   "name": "python",
   "nbconvert_exporter": "python",
   "pygments_lexer": "ipython3",
   "version": "3.12.3"
  }
 },
 "nbformat": 4,
 "nbformat_minor": 5
}
