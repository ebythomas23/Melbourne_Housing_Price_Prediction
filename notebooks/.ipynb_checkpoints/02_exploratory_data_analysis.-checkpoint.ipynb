{
 "cells": [
  {
   "cell_type": "markdown",
   "id": "b4864d76-3ac7-4ca7-bb03-bedf158e60f2",
   "metadata": {
    "editable": true,
    "slideshow": {
     "slide_type": ""
    },
    "tags": []
   },
   "source": [
    "# Exploratory Data Analysis (EDA)\n",
    "\n",
    "## Purpose\n",
    "This notebook explores the cleaned housing market dataset to uncover trends, patterns, and insights. The findings will inform feature engineering and modeling decisions.\n"
   ]
  },
  {
   "cell_type": "code",
   "execution_count": 4,
   "id": "e7e4f6a1-0703-4ea4-b1ba-1e912551e210",
   "metadata": {},
   "outputs": [],
   "source": [
    "import pandas as pd\n",
    "import matplotlib.pyplot as plt\n",
    "import seaborn as sns\n"
   ]
  },
  {
   "cell_type": "markdown",
   "id": "ee5b39e7-0581-4265-82cc-4ce795e18a45",
   "metadata": {},
   "source": [
    "**Load the Cleaned Dataset**"
   ]
  },
  {
   "cell_type": "code",
   "execution_count": 2,
   "id": "f180e26f-3d2e-4c36-b28f-51e6dac3fbf9",
   "metadata": {
    "editable": true,
    "slideshow": {
     "slide_type": ""
    },
    "tags": []
   },
   "outputs": [
    {
     "name": "stdout",
     "output_type": "stream",
     "text": [
      "<class 'pandas.core.frame.DataFrame'>\n",
      "RangeIndex: 340 entries, 0 to 339\n",
      "Data columns (total 5 columns):\n",
      " #   Column              Non-Null Count  Dtype  \n",
      "---  ------              --------------  -----  \n",
      " 0   sale_year           340 non-null    int64  \n",
      " 1   median_price        340 non-null    float64\n",
      " 2   transaction_count   340 non-null    int64  \n",
      " 3   type_encoded        340 non-null    int64  \n",
      " 4   small_area_encoded  340 non-null    int64  \n",
      "dtypes: float64(1), int64(4)\n",
      "memory usage: 13.4 KB\n"
     ]
    },
    {
     "data": {
      "text/html": [
       "<div>\n",
       "<style scoped>\n",
       "    .dataframe tbody tr th:only-of-type {\n",
       "        vertical-align: middle;\n",
       "    }\n",
       "\n",
       "    .dataframe tbody tr th {\n",
       "        vertical-align: top;\n",
       "    }\n",
       "\n",
       "    .dataframe thead th {\n",
       "        text-align: right;\n",
       "    }\n",
       "</style>\n",
       "<table border=\"1\" class=\"dataframe\">\n",
       "  <thead>\n",
       "    <tr style=\"text-align: right;\">\n",
       "      <th></th>\n",
       "      <th>sale_year</th>\n",
       "      <th>median_price</th>\n",
       "      <th>transaction_count</th>\n",
       "      <th>type_encoded</th>\n",
       "      <th>small_area_encoded</th>\n",
       "    </tr>\n",
       "  </thead>\n",
       "  <tbody>\n",
       "    <tr>\n",
       "      <th>count</th>\n",
       "      <td>340.000000</td>\n",
       "      <td>3.400000e+02</td>\n",
       "      <td>340.000000</td>\n",
       "      <td>340.000000</td>\n",
       "      <td>340.000000</td>\n",
       "    </tr>\n",
       "    <tr>\n",
       "      <th>mean</th>\n",
       "      <td>2008.170588</td>\n",
       "      <td>6.662830e+05</td>\n",
       "      <td>282.352941</td>\n",
       "      <td>0.550000</td>\n",
       "      <td>4.964706</td>\n",
       "    </tr>\n",
       "    <tr>\n",
       "      <th>std</th>\n",
       "      <td>4.879705</td>\n",
       "      <td>8.564890e+05</td>\n",
       "      <td>483.899163</td>\n",
       "      <td>0.498227</td>\n",
       "      <td>3.198256</td>\n",
       "    </tr>\n",
       "    <tr>\n",
       "      <th>min</th>\n",
       "      <td>2000.000000</td>\n",
       "      <td>0.000000e+00</td>\n",
       "      <td>1.000000</td>\n",
       "      <td>0.000000</td>\n",
       "      <td>0.000000</td>\n",
       "    </tr>\n",
       "    <tr>\n",
       "      <th>25%</th>\n",
       "      <td>2004.000000</td>\n",
       "      <td>3.747375e+05</td>\n",
       "      <td>48.750000</td>\n",
       "      <td>0.000000</td>\n",
       "      <td>2.000000</td>\n",
       "    </tr>\n",
       "    <tr>\n",
       "      <th>50%</th>\n",
       "      <td>2008.000000</td>\n",
       "      <td>5.020000e+05</td>\n",
       "      <td>122.000000</td>\n",
       "      <td>1.000000</td>\n",
       "      <td>5.000000</td>\n",
       "    </tr>\n",
       "    <tr>\n",
       "      <th>75%</th>\n",
       "      <td>2012.000000</td>\n",
       "      <td>7.675000e+05</td>\n",
       "      <td>225.250000</td>\n",
       "      <td>1.000000</td>\n",
       "      <td>8.000000</td>\n",
       "    </tr>\n",
       "    <tr>\n",
       "      <th>max</th>\n",
       "      <td>2016.000000</td>\n",
       "      <td>1.430000e+07</td>\n",
       "      <td>3766.000000</td>\n",
       "      <td>1.000000</td>\n",
       "      <td>10.000000</td>\n",
       "    </tr>\n",
       "  </tbody>\n",
       "</table>\n",
       "</div>"
      ],
      "text/plain": [
       "         sale_year  median_price  transaction_count  type_encoded  \\\n",
       "count   340.000000  3.400000e+02         340.000000    340.000000   \n",
       "mean   2008.170588  6.662830e+05         282.352941      0.550000   \n",
       "std       4.879705  8.564890e+05         483.899163      0.498227   \n",
       "min    2000.000000  0.000000e+00           1.000000      0.000000   \n",
       "25%    2004.000000  3.747375e+05          48.750000      0.000000   \n",
       "50%    2008.000000  5.020000e+05         122.000000      1.000000   \n",
       "75%    2012.000000  7.675000e+05         225.250000      1.000000   \n",
       "max    2016.000000  1.430000e+07        3766.000000      1.000000   \n",
       "\n",
       "       small_area_encoded  \n",
       "count          340.000000  \n",
       "mean             4.964706  \n",
       "std              3.198256  \n",
       "min              0.000000  \n",
       "25%              2.000000  \n",
       "50%              5.000000  \n",
       "75%              8.000000  \n",
       "max             10.000000  "
      ]
     },
     "execution_count": 2,
     "metadata": {},
     "output_type": "execute_result"
    }
   ],
   "source": [
    "file_path = '/Users/ebythomas/Documents/GitHub/Melbourne_Housing_Analytics/data/processed/cleaned_housing_data.csv'\n",
    "housing_data = pd.read_csv(file_path)\n",
    "\n",
    "#Display dataset overview\n",
    "housing_data.info()\n",
    "housing_data.describe()"
   ]
  },
  {
   "cell_type": "code",
   "execution_count": 3,
   "id": "f08d7559-1de3-462a-87c7-ebad7a56e36a",
   "metadata": {},
   "outputs": [
    {
     "data": {
      "text/html": [
       "<div>\n",
       "<style scoped>\n",
       "    .dataframe tbody tr th:only-of-type {\n",
       "        vertical-align: middle;\n",
       "    }\n",
       "\n",
       "    .dataframe tbody tr th {\n",
       "        vertical-align: top;\n",
       "    }\n",
       "\n",
       "    .dataframe thead th {\n",
       "        text-align: right;\n",
       "    }\n",
       "</style>\n",
       "<table border=\"1\" class=\"dataframe\">\n",
       "  <thead>\n",
       "    <tr style=\"text-align: right;\">\n",
       "      <th></th>\n",
       "      <th>sale_year</th>\n",
       "      <th>median_price</th>\n",
       "      <th>transaction_count</th>\n",
       "      <th>type_encoded</th>\n",
       "      <th>small_area_encoded</th>\n",
       "    </tr>\n",
       "  </thead>\n",
       "  <tbody>\n",
       "    <tr>\n",
       "      <th>0</th>\n",
       "      <td>2000</td>\n",
       "      <td>316250.0</td>\n",
       "      <td>116</td>\n",
       "      <td>0</td>\n",
       "      <td>0</td>\n",
       "    </tr>\n",
       "    <tr>\n",
       "      <th>1</th>\n",
       "      <td>2000</td>\n",
       "      <td>220000.0</td>\n",
       "      <td>309</td>\n",
       "      <td>1</td>\n",
       "      <td>0</td>\n",
       "    </tr>\n",
       "    <tr>\n",
       "      <th>2</th>\n",
       "      <td>2000</td>\n",
       "      <td>622500.0</td>\n",
       "      <td>42</td>\n",
       "      <td>0</td>\n",
       "      <td>2</td>\n",
       "    </tr>\n",
       "    <tr>\n",
       "      <th>3</th>\n",
       "      <td>2000</td>\n",
       "      <td>295000.0</td>\n",
       "      <td>139</td>\n",
       "      <td>1</td>\n",
       "      <td>2</td>\n",
       "    </tr>\n",
       "    <tr>\n",
       "      <th>4</th>\n",
       "      <td>2000</td>\n",
       "      <td>215250.0</td>\n",
       "      <td>258</td>\n",
       "      <td>0</td>\n",
       "      <td>3</td>\n",
       "    </tr>\n",
       "  </tbody>\n",
       "</table>\n",
       "</div>"
      ],
      "text/plain": [
       "   sale_year  median_price  transaction_count  type_encoded  \\\n",
       "0       2000      316250.0                116             0   \n",
       "1       2000      220000.0                309             1   \n",
       "2       2000      622500.0                 42             0   \n",
       "3       2000      295000.0                139             1   \n",
       "4       2000      215250.0                258             0   \n",
       "\n",
       "   small_area_encoded  \n",
       "0                   0  \n",
       "1                   0  \n",
       "2                   2  \n",
       "3                   2  \n",
       "4                   3  "
      ]
     },
     "execution_count": 3,
     "metadata": {},
     "output_type": "execute_result"
    }
   ],
   "source": [
    "housing_data.head()"
   ]
  },
  {
   "cell_type": "markdown",
   "id": "44743125-fce1-4260-ba00-1f46c815c660",
   "metadata": {},
   "source": [
    "Univariate Analysis"
   ]
  },
  {
   "cell_type": "code",
   "execution_count": 5,
   "id": "4dd550cb-13c0-46e0-ab1a-1b161be79f31",
   "metadata": {},
   "outputs": [
    {
     "data": {
      "image/png": "[encoded data removed]",
      "text/plain": [
       "<Figure size 800x500 with 1 Axes>"
      ]
     },
     "metadata": {},
     "output_type": "display_data"
    }
   ],
   "source": [
    "\n",
    "# Plot distribution of median_price\n",
    "plt.figure(figsize=(8, 5))\n",
    "sns.histplot(housing_data['median_price'], bins=30, kde=True)\n",
    "plt.title('Distribution of Median Prices')\n",
    "plt.xlabel('Median Price')\n",
    "plt.ylabel('Frequency')\n",
    "plt.show()\n"
   ]
  },
  {
   "cell_type": "code",
   "execution_count": 6,
   "id": "11013583-2744-42ba-a69d-c193c627f6db",
   "metadata": {},
   "outputs": [
    {
     "data": {
      "image/png": "[encoded data removed]",
      "text/plain": [
       "<Figure size 800x500 with 1 Axes>"
      ]
     },
     "metadata": {},
     "output_type": "display_data"
    }
   ],
   "source": [
    "# Plot count of property types\n",
    "plt.figure(figsize=(8, 5))\n",
    "sns.countplot(x='type_encoded', data=housing_data)\n",
    "plt.title('Property Type Distribution')\n",
    "plt.xlabel('Type Encoded')\n",
    "plt.ylabel('Count')\n",
    "plt.show()\n"
   ]
  },
  {
   "cell_type": "code",
   "execution_count": null,
   "id": "0c781f8f-5f50-409b-a26f-9937ce5a009f",
   "metadata": {},
   "outputs": [],
   "source": []
  }
 ],
 "metadata": {
  "kernelspec": {
   "display_name": "Python 3 (ipykernel)",
   "language": "python",
   "name": "python3"
  },
  "language_info": {
   "codemirror_mode": {
    "name": "ipython",
    "version": 3
   },
   "file_extension": ".py",
   "mimetype": "text/x-python",
   "name": "python",
   "nbconvert_exporter": "python",
   "pygments_lexer": "ipython3",
   "version": "3.12.3"
  }
 },
 "nbformat": 4,
 "nbformat_minor": 5
}
