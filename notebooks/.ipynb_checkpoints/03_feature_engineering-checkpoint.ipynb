{
 "cells": [
  {
   "cell_type": "markdown",
   "id": "f98382e9-6938-4068-9885-916682ad57a5",
   "metadata": {
    "editable": true,
    "slideshow": {
     "slide_type": ""
    },
    "tags": []
   },
   "source": [
    "# Feature Engineering\n",
    "\n",
    "## Purpose\n",
    "This notebook focuses on creating new features to enhance the predictive power of models. Features are derived based on insights from the Exploratory Data Analysis (EDA).\n",
    "\n"
   ]
  },
  {
   "cell_type": "code",
   "execution_count": 14,
   "id": "bbdf9bb7-fd5f-4448-a56c-363b8d1032c7",
   "metadata": {},
   "outputs": [],
   "source": [
    "import pandas as pd"
   ]
  },
  {
   "cell_type": "code",
   "execution_count": 15,
   "id": "01352dc3-483b-4770-a9a9-946f13b56b96",
   "metadata": {},
   "outputs": [
    {
     "data": {
      "text/html": [
       "<div>\n",
       "<style scoped>\n",
       "    .dataframe tbody tr th:only-of-type {\n",
       "        vertical-align: middle;\n",
       "    }\n",
       "\n",
       "    .dataframe tbody tr th {\n",
       "        vertical-align: top;\n",
       "    }\n",
       "\n",
       "    .dataframe thead th {\n",
       "        text-align: right;\n",
       "    }\n",
       "</style>\n",
       "<table border=\"1\" class=\"dataframe\">\n",
       "  <thead>\n",
       "    <tr style=\"text-align: right;\">\n",
       "      <th></th>\n",
       "      <th>sale_year</th>\n",
       "      <th>median_price</th>\n",
       "      <th>transaction_count</th>\n",
       "      <th>type_encoded</th>\n",
       "      <th>small_area_encoded</th>\n",
       "    </tr>\n",
       "  </thead>\n",
       "  <tbody>\n",
       "    <tr>\n",
       "      <th>0</th>\n",
       "      <td>2000</td>\n",
       "      <td>316250.0</td>\n",
       "      <td>116</td>\n",
       "      <td>0</td>\n",
       "      <td>0</td>\n",
       "    </tr>\n",
       "    <tr>\n",
       "      <th>1</th>\n",
       "      <td>2000</td>\n",
       "      <td>220000.0</td>\n",
       "      <td>309</td>\n",
       "      <td>1</td>\n",
       "      <td>0</td>\n",
       "    </tr>\n",
       "    <tr>\n",
       "      <th>2</th>\n",
       "      <td>2000</td>\n",
       "      <td>622500.0</td>\n",
       "      <td>42</td>\n",
       "      <td>0</td>\n",
       "      <td>2</td>\n",
       "    </tr>\n",
       "    <tr>\n",
       "      <th>3</th>\n",
       "      <td>2000</td>\n",
       "      <td>295000.0</td>\n",
       "      <td>139</td>\n",
       "      <td>1</td>\n",
       "      <td>2</td>\n",
       "    </tr>\n",
       "    <tr>\n",
       "      <th>4</th>\n",
       "      <td>2000</td>\n",
       "      <td>215250.0</td>\n",
       "      <td>258</td>\n",
       "      <td>0</td>\n",
       "      <td>3</td>\n",
       "    </tr>\n",
       "  </tbody>\n",
       "</table>\n",
       "</div>"
      ],
      "text/plain": [
       "   sale_year  median_price  transaction_count  type_encoded  \\\n",
       "0       2000      316250.0                116             0   \n",
       "1       2000      220000.0                309             1   \n",
       "2       2000      622500.0                 42             0   \n",
       "3       2000      295000.0                139             1   \n",
       "4       2000      215250.0                258             0   \n",
       "\n",
       "   small_area_encoded  \n",
       "0                   0  \n",
       "1                   0  \n",
       "2                   2  \n",
       "3                   2  \n",
       "4                   3  "
      ]
     },
     "execution_count": 15,
     "metadata": {},
     "output_type": "execute_result"
    }
   ],
   "source": [
    "#load cleaned dataset\n",
    "file_path = '/Users/ebythomas/Documents/GitHub/Melbourne_Housing_Analytics/data/processed/cleaned_housing_data.csv'\n",
    "housing_data = pd.read_csv(file_path)\n",
    "\n",
    "#display the first few rows\n",
    "housing_data.head()\n"
   ]
  },
  {
   "cell_type": "markdown",
   "id": "a5029ebe-3038-4278-ae36-c6bcece15742",
   "metadata": {},
   "source": [
    "### Rolling Average Price\n",
    "\n",
    "- This feature calculates the 3-year moving average of `median_price` for each small area.\n",
    "- It helps smooth out short-term fluctuations and highlight longer-term trends.\n"
   ]
  },
  {
   "cell_type": "code",
   "execution_count": 16,
   "id": "aee79ace-1172-4777-b019-08917b431d5e",
   "metadata": {},
   "outputs": [
    {
     "data": {
      "text/html": [
       "<div>\n",
       "<style scoped>\n",
       "    .dataframe tbody tr th:only-of-type {\n",
       "        vertical-align: middle;\n",
       "    }\n",
       "\n",
       "    .dataframe tbody tr th {\n",
       "        vertical-align: top;\n",
       "    }\n",
       "\n",
       "    .dataframe thead th {\n",
       "        text-align: right;\n",
       "    }\n",
       "</style>\n",
       "<table border=\"1\" class=\"dataframe\">\n",
       "  <thead>\n",
       "    <tr style=\"text-align: right;\">\n",
       "      <th></th>\n",
       "      <th>small_area_encoded</th>\n",
       "      <th>sale_year</th>\n",
       "      <th>median_price</th>\n",
       "      <th>rolling_avg_price</th>\n",
       "    </tr>\n",
       "  </thead>\n",
       "  <tbody>\n",
       "    <tr>\n",
       "      <th>0</th>\n",
       "      <td>0</td>\n",
       "      <td>2000</td>\n",
       "      <td>316250.0</td>\n",
       "      <td>316250.0</td>\n",
       "    </tr>\n",
       "    <tr>\n",
       "      <th>1</th>\n",
       "      <td>0</td>\n",
       "      <td>2000</td>\n",
       "      <td>220000.0</td>\n",
       "      <td>268125.0</td>\n",
       "    </tr>\n",
       "    <tr>\n",
       "      <th>2</th>\n",
       "      <td>2</td>\n",
       "      <td>2000</td>\n",
       "      <td>622500.0</td>\n",
       "      <td>622500.0</td>\n",
       "    </tr>\n",
       "    <tr>\n",
       "      <th>3</th>\n",
       "      <td>2</td>\n",
       "      <td>2000</td>\n",
       "      <td>295000.0</td>\n",
       "      <td>458750.0</td>\n",
       "    </tr>\n",
       "    <tr>\n",
       "      <th>4</th>\n",
       "      <td>3</td>\n",
       "      <td>2000</td>\n",
       "      <td>215250.0</td>\n",
       "      <td>215250.0</td>\n",
       "    </tr>\n",
       "  </tbody>\n",
       "</table>\n",
       "</div>"
      ],
      "text/plain": [
       "   small_area_encoded  sale_year  median_price  rolling_avg_price\n",
       "0                   0       2000      316250.0           316250.0\n",
       "1                   0       2000      220000.0           268125.0\n",
       "2                   2       2000      622500.0           622500.0\n",
       "3                   2       2000      295000.0           458750.0\n",
       "4                   3       2000      215250.0           215250.0"
      ]
     },
     "execution_count": 16,
     "metadata": {},
     "output_type": "execute_result"
    }
   ],
   "source": [
    "# Calculate 3-year rolling average of median price\n",
    "housing_data['rolling_avg_price'] = housing_data.groupby('small_area_encoded')['median_price'] \\\n",
    "    .transform(lambda x: x.rolling(window=3, min_periods=1).mean())\n",
    "\n",
    "# Display the new feature\n",
    "housing_data[['small_area_encoded', 'sale_year', 'median_price', 'rolling_avg_price']].head()\n"
   ]
  },
  {
   "cell_type": "markdown",
   "id": "40af9a83-816d-45e1-a620-b86efe7d99de",
   "metadata": {},
   "source": [
    "### Transaction Density\n",
    "\n",
    "- This feature represents the proportion of transactions in each small area relative to the total transactions for that area.\n",
    "- It highlights the activity level of each area in the housing market.\n"
   ]
  },
  {
   "cell_type": "code",
   "execution_count": 17,
   "id": "7a81dea2-8420-4e50-a54a-d0344a2f7dce",
   "metadata": {},
   "outputs": [
    {
     "data": {
      "text/html": [
       "<div>\n",
       "<style scoped>\n",
       "    .dataframe tbody tr th:only-of-type {\n",
       "        vertical-align: middle;\n",
       "    }\n",
       "\n",
       "    .dataframe tbody tr th {\n",
       "        vertical-align: top;\n",
       "    }\n",
       "\n",
       "    .dataframe thead th {\n",
       "        text-align: right;\n",
       "    }\n",
       "</style>\n",
       "<table border=\"1\" class=\"dataframe\">\n",
       "  <thead>\n",
       "    <tr style=\"text-align: right;\">\n",
       "      <th></th>\n",
       "      <th>small_area_encoded</th>\n",
       "      <th>transaction_count</th>\n",
       "      <th>transaction_density</th>\n",
       "    </tr>\n",
       "  </thead>\n",
       "  <tbody>\n",
       "    <tr>\n",
       "      <th>0</th>\n",
       "      <td>0</td>\n",
       "      <td>116</td>\n",
       "      <td>0.016445</td>\n",
       "    </tr>\n",
       "    <tr>\n",
       "      <th>1</th>\n",
       "      <td>0</td>\n",
       "      <td>309</td>\n",
       "      <td>0.043805</td>\n",
       "    </tr>\n",
       "    <tr>\n",
       "      <th>2</th>\n",
       "      <td>2</td>\n",
       "      <td>42</td>\n",
       "      <td>0.010041</td>\n",
       "    </tr>\n",
       "    <tr>\n",
       "      <th>3</th>\n",
       "      <td>2</td>\n",
       "      <td>139</td>\n",
       "      <td>0.033230</td>\n",
       "    </tr>\n",
       "    <tr>\n",
       "      <th>4</th>\n",
       "      <td>3</td>\n",
       "      <td>258</td>\n",
       "      <td>0.043165</td>\n",
       "    </tr>\n",
       "  </tbody>\n",
       "</table>\n",
       "</div>"
      ],
      "text/plain": [
       "   small_area_encoded  transaction_count  transaction_density\n",
       "0                   0                116             0.016445\n",
       "1                   0                309             0.043805\n",
       "2                   2                 42             0.010041\n",
       "3                   2                139             0.033230\n",
       "4                   3                258             0.043165"
      ]
     },
     "execution_count": 17,
     "metadata": {},
     "output_type": "execute_result"
    }
   ],
   "source": [
    "# Normalize transaction count by small area\n",
    "area_transaction_sum = housing_data.groupby('small_area_encoded')['transaction_count'].transform('sum')\n",
    "housing_data['transaction_density'] = housing_data['transaction_count'] / area_transaction_sum\n",
    "\n",
    "# Display the new feature\n",
    "housing_data[['small_area_encoded', 'transaction_count', 'transaction_density']].head()\n"
   ]
  },
  {
   "cell_type": "code",
   "execution_count": 18,
   "id": "26dfc545-87e9-49b1-996b-9e2bea5db1cf",
   "metadata": {},
   "outputs": [
    {
     "data": {
      "text/html": [
       "<div>\n",
       "<style scoped>\n",
       "    .dataframe tbody tr th:only-of-type {\n",
       "        vertical-align: middle;\n",
       "    }\n",
       "\n",
       "    .dataframe tbody tr th {\n",
       "        vertical-align: top;\n",
       "    }\n",
       "\n",
       "    .dataframe thead th {\n",
       "        text-align: right;\n",
       "    }\n",
       "</style>\n",
       "<table border=\"1\" class=\"dataframe\">\n",
       "  <thead>\n",
       "    <tr style=\"text-align: right;\">\n",
       "      <th></th>\n",
       "      <th>sale_year</th>\n",
       "      <th>median_price</th>\n",
       "      <th>transaction_count</th>\n",
       "      <th>type_encoded</th>\n",
       "      <th>small_area_encoded</th>\n",
       "      <th>rolling_avg_price</th>\n",
       "      <th>transaction_density</th>\n",
       "    </tr>\n",
       "  </thead>\n",
       "  <tbody>\n",
       "    <tr>\n",
       "      <th>0</th>\n",
       "      <td>2000</td>\n",
       "      <td>316250.0</td>\n",
       "      <td>116</td>\n",
       "      <td>0</td>\n",
       "      <td>0</td>\n",
       "      <td>316250.0</td>\n",
       "      <td>0.016445</td>\n",
       "    </tr>\n",
       "    <tr>\n",
       "      <th>1</th>\n",
       "      <td>2000</td>\n",
       "      <td>220000.0</td>\n",
       "      <td>309</td>\n",
       "      <td>1</td>\n",
       "      <td>0</td>\n",
       "      <td>268125.0</td>\n",
       "      <td>0.043805</td>\n",
       "    </tr>\n",
       "    <tr>\n",
       "      <th>2</th>\n",
       "      <td>2000</td>\n",
       "      <td>622500.0</td>\n",
       "      <td>42</td>\n",
       "      <td>0</td>\n",
       "      <td>2</td>\n",
       "      <td>622500.0</td>\n",
       "      <td>0.010041</td>\n",
       "    </tr>\n",
       "    <tr>\n",
       "      <th>3</th>\n",
       "      <td>2000</td>\n",
       "      <td>295000.0</td>\n",
       "      <td>139</td>\n",
       "      <td>1</td>\n",
       "      <td>2</td>\n",
       "      <td>458750.0</td>\n",
       "      <td>0.033230</td>\n",
       "    </tr>\n",
       "    <tr>\n",
       "      <th>4</th>\n",
       "      <td>2000</td>\n",
       "      <td>215250.0</td>\n",
       "      <td>258</td>\n",
       "      <td>0</td>\n",
       "      <td>3</td>\n",
       "      <td>215250.0</td>\n",
       "      <td>0.043165</td>\n",
       "    </tr>\n",
       "  </tbody>\n",
       "</table>\n",
       "</div>"
      ],
      "text/plain": [
       "   sale_year  median_price  transaction_count  type_encoded  \\\n",
       "0       2000      316250.0                116             0   \n",
       "1       2000      220000.0                309             1   \n",
       "2       2000      622500.0                 42             0   \n",
       "3       2000      295000.0                139             1   \n",
       "4       2000      215250.0                258             0   \n",
       "\n",
       "   small_area_encoded  rolling_avg_price  transaction_density  \n",
       "0                   0           316250.0             0.016445  \n",
       "1                   0           268125.0             0.043805  \n",
       "2                   2           622500.0             0.010041  \n",
       "3                   2           458750.0             0.033230  \n",
       "4                   3           215250.0             0.043165  "
      ]
     },
     "execution_count": 18,
     "metadata": {},
     "output_type": "execute_result"
    }
   ],
   "source": [
    "housing_data.head()"
   ]
  },
  {
   "cell_type": "markdown",
   "id": "72efa448-c1f6-4799-936a-a218cd34703b",
   "metadata": {},
   "source": [
    "## Save Enhanced Dataset\n",
    "\n",
    "The enhanced dataset with new features is saved for use in modeling.\n"
   ]
  },
  {
   "cell_type": "code",
   "execution_count": 19,
   "id": "3cbf5a1c-7b18-4e71-97d3-3b57043453ac",
   "metadata": {
    "editable": true,
    "slideshow": {
     "slide_type": ""
    },
    "tags": []
   },
   "outputs": [
    {
     "name": "stdout",
     "output_type": "stream",
     "text": [
      "Enhanced dataset saved to data/processed/enhanced_data.csv\n"
     ]
    }
   ],
   "source": [
    "# Save the enhanced dataset\n",
    "housing_data.to_csv('/Users/ebythomas/Documents/GitHub/Melbourne_Housing_Analytics/data/processed/enhanced_data.csv', index=False)\n",
    "print(\"Enhanced dataset saved to ~/processed/enhanced_data.csv\")\n"
   ]
  }
 ],
 "metadata": {
  "kernelspec": {
   "display_name": "Python 3 (ipykernel)",
   "language": "python",
   "name": "python3"
  },
  "language_info": {
   "codemirror_mode": {
    "name": "ipython",
    "version": 3
   },
   "file_extension": ".py",
   "mimetype": "text/x-python",
   "name": "python",
   "nbconvert_exporter": "python",
   "pygments_lexer": "ipython3",
   "version": "3.12.3"
  }
 },
 "nbformat": 4,
 "nbformat_minor": 5
}
